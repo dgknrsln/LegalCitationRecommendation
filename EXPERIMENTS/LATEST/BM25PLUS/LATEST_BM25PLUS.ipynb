{
 "cells": [
  {
   "cell_type": "markdown",
   "source": [
    "# Citation Recommendation on Scholarly Legal Articles"
   ],
   "metadata": {
    "collapsed": false
   }
  },
  {
   "cell_type": "markdown",
   "source": [
    "## BM-25"
   ],
   "metadata": {
    "collapsed": false
   }
  },
  {
   "cell_type": "markdown",
   "source": [
    "### Libraries"
   ],
   "metadata": {
    "collapsed": false
   }
  },
  {
   "cell_type": "code",
   "execution_count": 1,
   "metadata": {
    "collapsed": true,
    "ExecuteTime": {
     "start_time": "2023-05-31T11:40:14.180213Z",
     "end_time": "2023-05-31T11:40:14.948164Z"
    }
   },
   "outputs": [],
   "source": [
    "import rank_bm25\n",
    "import pickle\n",
    "import os\n",
    "from tqdm import tqdm"
   ]
  },
  {
   "cell_type": "markdown",
   "source": [
    "### Dataset"
   ],
   "metadata": {
    "collapsed": false
   }
  },
  {
   "cell_type": "code",
   "execution_count": 2,
   "outputs": [],
   "source": [
    "with open('/Users/dgknrsln/Documents/pythonProject/EXPERIMENTS/LATEST_test_docs.pkl', 'rb') as f:\n",
    "    docs = pickle.load(f)\n",
    "\n",
    "with open('/Users/dgknrsln/Documents/pythonProject/EXPERIMENTS/LATEST_test_queries.pkl', 'rb') as f:\n",
    "    queries = pickle.load(f)\n",
    "\n",
    "with open('/Users/dgknrsln/Documents/pythonProject/EXPERIMENTS/LATEST_test_data.pkl', 'rb') as f:\n",
    "    pair = pickle.load(f)"
   ],
   "metadata": {
    "collapsed": false,
    "ExecuteTime": {
     "start_time": "2023-05-31T11:40:14.949461Z",
     "end_time": "2023-05-31T11:40:14.968336Z"
    }
   }
  },
  {
   "cell_type": "markdown",
   "source": [
    "### Train Model"
   ],
   "metadata": {
    "collapsed": false
   }
  },
  {
   "cell_type": "code",
   "execution_count": 3,
   "outputs": [],
   "source": [
    "tokenized_corpus = [doc.split() for doc in list(set(docs))]\n",
    "\n",
    "bm25 = rank_bm25.BM25Plus(tokenized_corpus)"
   ],
   "metadata": {
    "collapsed": false,
    "ExecuteTime": {
     "start_time": "2023-05-31T11:40:22.311903Z",
     "end_time": "2023-05-31T11:40:22.368426Z"
    }
   }
  },
  {
   "cell_type": "markdown",
   "source": [
    "### Evaluate"
   ],
   "metadata": {
    "collapsed": false
   }
  },
  {
   "cell_type": "markdown",
   "source": [
    "#### 1. MAP"
   ],
   "metadata": {
    "collapsed": false
   }
  },
  {
   "cell_type": "code",
   "execution_count": 4,
   "outputs": [
    {
     "name": "stderr",
     "output_type": "stream",
     "text": [
      "100%|██████████| 2675/2675 [02:40<00:00, 16.64it/s]\n"
     ]
    }
   ],
   "source": [
    "total_prec = 0\n",
    "found = 0\n",
    "for i in tqdm(range(len(queries))):\n",
    "\n",
    "    sample = queries[i]\n",
    "    tokenized_query = sample.split()\n",
    "    results = bm25.get_top_n(tokenized_query, tokenized_corpus, n=10)\n",
    "\n",
    "    count = 0\n",
    "    precision = 0\n",
    "    index = 0\n",
    "    for m in results:\n",
    "        if ' '.join(str(e) for e in m) in pair[i][1]:\n",
    "            count += 1\n",
    "            precision += count/(index+1)\n",
    "        index += 1\n",
    "\n",
    "    if count == 0:\n",
    "        precision = 0\n",
    "    else:\n",
    "        found += 1\n",
    "        precision /= count\n",
    "\n",
    "    total_prec += precision"
   ],
   "metadata": {
    "collapsed": false,
    "ExecuteTime": {
     "start_time": "2023-05-31T11:40:28.565200Z",
     "end_time": "2023-05-31T11:43:09.322041Z"
    }
   }
  },
  {
   "cell_type": "code",
   "execution_count": 5,
   "outputs": [
    {
     "name": "stdout",
     "output_type": "stream",
     "text": [
      "0.26791680265044787\n"
     ]
    }
   ],
   "source": [
    "MAP = total_prec / len(queries)\n",
    "print(MAP)"
   ],
   "metadata": {
    "collapsed": false,
    "ExecuteTime": {
     "start_time": "2023-05-31T11:43:09.322578Z",
     "end_time": "2023-05-31T11:43:09.326348Z"
    }
   }
  },
  {
   "cell_type": "markdown",
   "source": [
    "#### 2. Recall"
   ],
   "metadata": {
    "collapsed": false
   }
  },
  {
   "cell_type": "code",
   "execution_count": 6,
   "outputs": [
    {
     "name": "stderr",
     "output_type": "stream",
     "text": [
      "100%|██████████| 2675/2675 [02:23<00:00, 18.69it/s]\n"
     ]
    }
   ],
   "source": [
    "total_prec = 0\n",
    "found = 0\n",
    "for i in tqdm(range(len(queries))):\n",
    "\n",
    "    sample = queries[i]\n",
    "    tokenized_query = sample.split()\n",
    "    results = bm25.get_top_n(tokenized_query, tokenized_corpus, n=10)\n",
    "\n",
    "    count = 0\n",
    "    for m in results:\n",
    "        if ' '.join(str(e) for e in m) in pair[i][1]:\n",
    "            count += 1\n",
    "\n",
    "    total_prec += (count / len(pair[i][1]))"
   ],
   "metadata": {
    "collapsed": false,
    "ExecuteTime": {
     "start_time": "2023-05-31T11:43:09.327828Z",
     "end_time": "2023-05-31T11:45:32.448790Z"
    }
   }
  },
  {
   "cell_type": "code",
   "execution_count": 7,
   "outputs": [
    {
     "name": "stdout",
     "output_type": "stream",
     "text": [
      "0.4520778816199377\n"
     ]
    }
   ],
   "source": [
    "RECALL = total_prec / len(queries)\n",
    "print(RECALL)"
   ],
   "metadata": {
    "collapsed": false,
    "ExecuteTime": {
     "start_time": "2023-05-31T11:45:32.449691Z",
     "end_time": "2023-05-31T11:45:32.451969Z"
    }
   }
  },
  {
   "cell_type": "markdown",
   "source": [
    "#### 3. MRR"
   ],
   "metadata": {
    "collapsed": false
   }
  },
  {
   "cell_type": "code",
   "execution_count": 8,
   "outputs": [
    {
     "name": "stderr",
     "output_type": "stream",
     "text": [
      "100%|██████████| 2675/2675 [02:24<00:00, 18.54it/s]\n"
     ]
    }
   ],
   "source": [
    "total_prec = 0\n",
    "found = 0\n",
    "for i in tqdm(range(len(queries))):\n",
    "\n",
    "    sample = queries[i]\n",
    "    tokenized_query = sample.split()\n",
    "    results = bm25.get_top_n(tokenized_query, tokenized_corpus, n=10)\n",
    "\n",
    "    index = 1\n",
    "    for m in results:\n",
    "        if ' '.join(str(e) for e in m) in pair[i][1]:\n",
    "            break\n",
    "        index += 1\n",
    "\n",
    "    total_prec += (1/index)"
   ],
   "metadata": {
    "collapsed": false,
    "ExecuteTime": {
     "start_time": "2023-05-31T11:45:32.453885Z",
     "end_time": "2023-05-31T11:47:56.728741Z"
    }
   }
  },
  {
   "cell_type": "code",
   "execution_count": 9,
   "outputs": [
    {
     "name": "stdout",
     "output_type": "stream",
     "text": [
      "0.317622918099557\n"
     ]
    }
   ],
   "source": [
    "MRR = total_prec / len(queries)\n",
    "print(MRR)"
   ],
   "metadata": {
    "collapsed": false,
    "ExecuteTime": {
     "start_time": "2023-05-31T11:47:56.726561Z",
     "end_time": "2023-05-31T11:47:56.729178Z"
    }
   }
  },
  {
   "cell_type": "markdown",
   "source": [
    "# Results"
   ],
   "metadata": {
    "collapsed": false
   }
  },
  {
   "cell_type": "code",
   "execution_count": 10,
   "outputs": [
    {
     "name": "stdout",
     "output_type": "stream",
     "text": [
      "MAP@10: 0.26791680265044787\n",
      "Recall@10: 0.4520778816199377\n",
      "MRR@10: 0.317622918099557\n"
     ]
    }
   ],
   "source": [
    "print(\"MAP@10: \" + str(MAP))\n",
    "print(\"Recall@10: \" + str(RECALL))\n",
    "print(\"MRR@10: \" + str(MRR))"
   ],
   "metadata": {
    "collapsed": false,
    "ExecuteTime": {
     "start_time": "2023-05-31T11:47:56.729421Z",
     "end_time": "2023-05-31T11:47:56.733746Z"
    }
   }
  },
  {
   "cell_type": "code",
   "execution_count": null,
   "outputs": [],
   "source": [],
   "metadata": {
    "collapsed": false
   }
  }
 ],
 "metadata": {
  "kernelspec": {
   "name": "legaltuned",
   "language": "python",
   "display_name": "legaltuned"
  },
  "language_info": {
   "codemirror_mode": {
    "name": "ipython",
    "version": 2
   },
   "file_extension": ".py",
   "mimetype": "text/x-python",
   "name": "python",
   "nbconvert_exporter": "python",
   "pygments_lexer": "ipython2",
   "version": "2.7.6"
  }
 },
 "nbformat": 4,
 "nbformat_minor": 0
}
