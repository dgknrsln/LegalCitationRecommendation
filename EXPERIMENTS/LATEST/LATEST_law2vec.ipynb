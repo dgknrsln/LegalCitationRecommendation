{
 "cells": [
  {
   "cell_type": "markdown",
   "source": [
    "# Citation Recommendation on Scholarly Legal Articles"
   ],
   "metadata": {
    "collapsed": false
   }
  },
  {
   "cell_type": "markdown",
   "source": [
    "## Law2Vec"
   ],
   "metadata": {
    "collapsed": false
   }
  },
  {
   "cell_type": "markdown",
   "source": [
    "### Libraries"
   ],
   "metadata": {
    "collapsed": false
   }
  },
  {
   "cell_type": "code",
   "execution_count": 7,
   "outputs": [],
   "source": [
    "import pickle\n",
    "import numpy as np\n",
    "from tqdm import tqdm\n",
    "from sklearn.metrics import pairwise"
   ],
   "metadata": {
    "collapsed": false
   }
  },
  {
   "cell_type": "markdown",
   "source": [
    "### Dataset"
   ],
   "metadata": {
    "collapsed": false
   }
  },
  {
   "cell_type": "code",
   "execution_count": 8,
   "outputs": [],
   "source": [
    "with open('/Users/dgknrsln/Documents/pythonProject/EXPERIMENTS/LATEST_test_docs.pkl', 'rb') as f:\n",
    "    docs = pickle.load(f)\n",
    "\n",
    "with open('/Users/dgknrsln/Documents/pythonProject/EXPERIMENTS/LATEST_test_queries.pkl', 'rb') as f:\n",
    "    queries = pickle.load(f)\n",
    "\n",
    "with open('/Users/dgknrsln/Documents/pythonProject/EXPERIMENTS/LATEST_test_data.pkl', 'rb') as f:\n",
    "    pair = pickle.load(f)"
   ],
   "metadata": {
    "collapsed": false
   }
  },
  {
   "cell_type": "markdown",
   "source": [
    "### Get Word Vectors"
   ],
   "metadata": {
    "collapsed": false
   }
  },
  {
   "cell_type": "markdown",
   "source": [
    "##### 1. Load Pretrained Word Vectors"
   ],
   "metadata": {
    "collapsed": false
   }
  },
  {
   "cell_type": "code",
   "execution_count": 9,
   "outputs": [],
   "source": [
    "from gensim.models import KeyedVectors\n",
    "\n",
    "vecs = KeyedVectors.load_word2vec_format('/Users/dgknrsln/Documents/pythonProject/EXPERIMENTS/EMBEDDINGS/Law2Vec/Law2Vec.200d.txt', binary=False)"
   ],
   "metadata": {
    "collapsed": false
   }
  },
  {
   "cell_type": "markdown",
   "source": [
    "##### 2. Calculate Text Embeddings for Parent Articles"
   ],
   "metadata": {
    "collapsed": false
   }
  },
  {
   "cell_type": "code",
   "execution_count": 12,
   "outputs": [
    {
     "name": "stderr",
     "output_type": "stream",
     "text": [
      "100%|██████████| 3050/3050 [1:26:01<00:00,  1.69s/it]\n"
     ]
    }
   ],
   "source": [
    "parent_emb = []\n",
    "for i in tqdm(range(len(docs))):\n",
    "    sample = docs[i]\n",
    "    emb = np.zeros((200,))\n",
    "    count = 0\n",
    "    for m in sample.split():\n",
    "        if m in list(vecs.key_to_index.keys()):\n",
    "            emb = np.add(emb, vecs.get_vector(m))\n",
    "            count += 1\n",
    "\n",
    "    if count == 0:\n",
    "        print(i)\n",
    "        break\n",
    "\n",
    "    emb = emb / count\n",
    "\n",
    "    parent_emb.append([sample[0], sample[1], emb])"
   ],
   "metadata": {
    "collapsed": false
   }
  },
  {
   "cell_type": "code",
   "execution_count": 14,
   "outputs": [
    {
     "data": {
      "text/plain": "['=',\n '6',\n array([ 3.97850425e-03,  1.00619585e-01,  1.00869127e-02,  5.02373433e-03,\n        -4.57001598e-02,  4.77381499e-02,  1.57776273e-02, -2.68681483e-01,\n         6.93469123e-02,  3.88348616e-02, -1.12256512e-01, -1.78832757e-01,\n        -1.36765893e-01, -1.11228866e-01,  3.74681109e-02,  2.43146314e-01,\n        -1.80955784e-01, -3.54724614e-02,  1.38232906e-01, -2.18817504e-01,\n        -4.56883992e-02, -1.71863802e-01,  1.79219684e-01,  5.39135774e-02,\n        -1.80302575e-01, -2.02870065e-02,  1.63779228e-01, -6.31798438e-02,\n        -1.07657642e-01, -1.71255429e-01,  3.82156787e-01, -8.89885980e-02,\n        -1.93573924e-01, -5.12881756e-02,  3.68622367e-02,  1.13818717e-01,\n         3.04673927e-02,  1.73152665e-02, -6.68234741e-02, -8.41478789e-02,\n        -6.15781723e-02, -1.41522299e-01,  1.37841335e-01,  1.20675659e-01,\n         5.46632542e-02, -5.87175812e-02, -9.71874445e-02,  9.17159822e-02,\n        -3.18387481e-02,  1.13423856e-01,  3.87840320e-02,  2.27526053e-01,\n         2.09610333e-02, -1.52454772e-02, -1.68539223e-01,  1.99419853e-02,\n        -1.96412646e-01, -1.05183938e-01,  1.26817129e-01, -6.29850912e-02,\n         5.06885164e-02,  4.60167106e-02, -3.75906466e-02,  1.83557303e-01,\n        -3.56199692e-02,  6.86284989e-03,  1.13054452e-01, -2.73858110e-01,\n         1.52799026e-01,  2.09449466e-02, -1.27156188e-01, -9.83037798e-02,\n         8.27502177e-02, -2.03023680e-01, -3.11704939e-02, -5.23463883e-02,\n        -5.60019615e-02,  1.04171892e-01, -1.60087836e-01,  1.46398003e-02,\n         2.86370905e-02,  8.67266081e-04, -5.65541848e-02,  1.69703178e-01,\n         2.10395542e-02,  2.35228916e-01, -1.25027855e-01, -9.17916563e-02,\n         2.89851168e-01, -1.39724834e-01,  1.42336147e-01,  2.29348001e-02,\n         1.36540687e-01, -8.58508245e-02,  1.94803031e-01,  5.10501664e-02,\n         2.70354410e-01, -8.28137731e-02, -2.86379338e-02,  8.61231639e-04,\n        -1.88191376e-01,  6.18684950e-02, -4.24197922e-02, -1.76754180e-01,\n         1.09897255e-01,  8.10235572e-02,  3.41645578e-01,  2.44745117e-02,\n        -8.08919547e-02,  1.16355274e-01,  4.93259453e-03, -5.01096400e-02,\n         1.27286290e-01, -1.05328537e-01, -1.86135921e-02,  6.61702371e-02,\n         1.29880352e-01, -1.07475335e-01,  3.48816037e-03,  1.42224717e-01,\n        -1.26563326e-01, -6.35533299e-02,  9.83835871e-02, -9.59355190e-03,\n        -1.80736794e-01,  2.65395836e-02,  2.93766996e-04,  7.35255686e-02,\n        -8.06541639e-02, -3.37433220e-02,  1.87551867e-01,  4.94656383e-02,\n        -1.49331892e-01, -1.54332775e-01,  8.98650711e-02,  2.23015100e-02,\n        -9.31042180e-02,  1.60736840e-01,  1.00532874e-01, -3.84518558e-02,\n         1.89049094e-01,  9.97813767e-03, -2.41592539e-01,  1.74285469e-02,\n         1.87766797e-01, -1.06721042e-01, -2.39200576e-01,  7.18225043e-02,\n        -8.07393913e-02, -1.82431705e-01,  3.58289820e-01,  1.15307390e-01,\n         2.52060935e-02,  5.61914071e-02, -1.30530332e-02,  7.40920807e-02,\n         1.46808812e-01,  1.02859321e-02,  3.94363423e-02,  3.83683985e-03,\n        -5.75648706e-02, -2.29494788e-01,  1.18084797e-01, -4.75011939e-01,\n        -2.49939736e-01,  3.92098553e-02, -6.42841113e-02,  2.14408658e-03,\n        -7.86873947e-02, -7.19119085e-02, -2.06541140e-03,  1.42667994e-01,\n        -3.11718955e-02, -8.98212376e-02,  3.23111810e-02, -8.36016903e-02,\n         3.93535408e-02,  1.40788589e-02,  5.24849390e-02,  1.57074343e-01,\n         6.86850983e-02,  1.09188265e-01, -4.79579233e-02, -2.96355184e-02,\n        -2.49385509e-02,  4.16725507e-02, -9.73391224e-02,  1.47798574e-01,\n         9.01176288e-02, -6.12074303e-02,  4.00789618e-02, -7.03811849e-02,\n         1.52840327e-01, -2.58940729e-02,  1.33780808e-01,  1.50366046e-02,\n        -6.78040778e-02, -8.59428873e-02,  6.47899605e-02,  8.05202725e-02])]"
     },
     "execution_count": 14,
     "metadata": {},
     "output_type": "execute_result"
    }
   ],
   "source": [
    "parent_emb[0]"
   ],
   "metadata": {
    "collapsed": false
   }
  },
  {
   "cell_type": "code",
   "execution_count": 21,
   "outputs": [],
   "source": [
    "with open(\"LATEST_law2vec_parent_embeddings.pkl\", 'wb') as f:\n",
    "    pickle.dump(parent_emb, f)"
   ],
   "metadata": {
    "collapsed": false
   }
  },
  {
   "cell_type": "markdown",
   "source": [
    "##### 3. Calculate Text Embeddings for Child Articles"
   ],
   "metadata": {
    "collapsed": false
   }
  },
  {
   "cell_type": "code",
   "execution_count": 22,
   "outputs": [
    {
     "name": "stderr",
     "output_type": "stream",
     "text": [
      "100%|██████████| 2675/2675 [2:38:06<00:00,  3.55s/it]     \n"
     ]
    }
   ],
   "source": [
    "child_emb = []\n",
    "for i in tqdm(range(len(queries))):\n",
    "    sample = queries[i]\n",
    "    emb = np.zeros((200,))\n",
    "    count = 0\n",
    "    for m in sample.split():\n",
    "        if m in list(vecs.key_to_index.keys()):\n",
    "            emb = np.add(emb, vecs.get_vector(m))\n",
    "            count += 1\n",
    "\n",
    "    if count == 0:\n",
    "        print(i)\n",
    "        break\n",
    "\n",
    "    emb = emb / count\n",
    "\n",
    "    child_emb.append(emb)"
   ],
   "metadata": {
    "collapsed": false
   }
  },
  {
   "cell_type": "code",
   "execution_count": 23,
   "outputs": [],
   "source": [
    "with open(\"law2vec_child_embeddings.pkl\", 'wb') as f:\n",
    "    pickle.dump(child_emb, f)"
   ],
   "metadata": {
    "collapsed": false
   }
  },
  {
   "cell_type": "markdown",
   "source": [
    "### Evaluate"
   ],
   "metadata": {
    "collapsed": false
   }
  },
  {
   "cell_type": "code",
   "execution_count": 24,
   "outputs": [],
   "source": [
    "with open('/Users/dgknrsln/Documents/pythonProject/EXPERIMENTS/parent_text.pkl', 'rb') as f:\n",
    "    parent = pickle.load(f)\n",
    "\n",
    "with open('/Users/dgknrsln/Documents/pythonProject/EXPERIMENTS/child_text.pkl', 'rb') as f:\n",
    "    child = pickle.load(f)\n",
    "\n",
    "with open('/Users/dgknrsln/Documents/pythonProject/EXPERIMENTS/parent_child_match.pkl', 'rb') as f:\n",
    "    parent_child_match = pickle.load(f)"
   ],
   "metadata": {
    "collapsed": false
   }
  },
  {
   "cell_type": "code",
   "execution_count": 4,
   "outputs": [],
   "source": [
    "with open('/Users/dgknrsln/Documents/pythonProject/EXPERIMENTS/EMBEDDINGS/Law2Vec/law2vec_parent_embeddings.pkl', 'rb') as f:\n",
    "    parent_embeddings_list = pickle.load(f)\n",
    "\n",
    "with open('/Users/dgknrsln/Documents/pythonProject/EXPERIMENTS/EMBEDDINGS/Law2Vec/law2vec_child_embeddings.pkl', 'rb') as f:\n",
    "    child_embeddings_list = pickle.load(f)"
   ],
   "metadata": {
    "collapsed": false
   }
  },
  {
   "cell_type": "code",
   "execution_count": 5,
   "outputs": [],
   "source": [
    "parent_embeddings = []\n",
    "for i in parent_embeddings_list:\n",
    "    parent_embeddings.append(i[2])\n",
    "\n",
    "child_embeddings = []\n",
    "for i in child_embeddings_list:\n",
    "    child_embeddings.append(i[2])"
   ],
   "metadata": {
    "collapsed": false
   }
  },
  {
   "cell_type": "code",
   "execution_count": 41,
   "outputs": [],
   "source": [
    "parent_emd = []\n",
    "for i in parent_emb:\n",
    "    parent_emd.append(i[2])"
   ],
   "metadata": {
    "collapsed": false
   }
  },
  {
   "cell_type": "code",
   "execution_count": 43,
   "outputs": [
    {
     "data": {
      "text/plain": "200"
     },
     "execution_count": 43,
     "metadata": {},
     "output_type": "execute_result"
    }
   ],
   "source": [
    "len(parent_emd[0])"
   ],
   "metadata": {
    "collapsed": false
   }
  },
  {
   "cell_type": "code",
   "execution_count": 44,
   "outputs": [],
   "source": [
    "cos_matrix = pairwise.cosine_similarity(child_emb, parent_emd)"
   ],
   "metadata": {
    "collapsed": false
   }
  },
  {
   "cell_type": "code",
   "execution_count": 45,
   "outputs": [
    {
     "data": {
      "text/plain": "(2675, 3050)"
     },
     "execution_count": 45,
     "metadata": {},
     "output_type": "execute_result"
    }
   ],
   "source": [
    "cos_matrix.shape\n"
   ],
   "metadata": {
    "collapsed": false
   }
  },
  {
   "cell_type": "markdown",
   "source": [
    "### 1. MAP"
   ],
   "metadata": {
    "collapsed": false
   }
  },
  {
   "cell_type": "code",
   "execution_count": 46,
   "outputs": [
    {
     "name": "stderr",
     "output_type": "stream",
     "text": [
      "100%|██████████| 2675/2675 [00:07<00:00, 347.74it/s]\n"
     ]
    }
   ],
   "source": [
    "found = 0\n",
    "total_prec = 0\n",
    "for i in tqdm(range(len(cos_matrix))):\n",
    "    sample = cos_matrix[i]\n",
    "    results = list(sorted(enumerate(sample), key=lambda item: item[1], reverse=True))\n",
    "\n",
    "    embd_set = set()\n",
    "    total_list = []\n",
    "    for r in results:\n",
    "        if r[1] not in embd_set:\n",
    "            embd_set.add(r[1])\n",
    "            total_list.append(r)\n",
    "\n",
    "    results = total_list[:10]\n",
    "\n",
    "    count = 0\n",
    "    precision = 0\n",
    "    index = 0\n",
    "    for m in results:\n",
    "        if docs[m[0]] in pair[i][1]:\n",
    "            count += 1\n",
    "            precision += count/(index+1)\n",
    "        index += 1\n",
    "\n",
    "    if count == 0:\n",
    "        precision = 0\n",
    "    else:\n",
    "        found += 1\n",
    "        precision /= count\n",
    "\n",
    "    total_prec += precision"
   ],
   "metadata": {
    "collapsed": false
   }
  },
  {
   "cell_type": "code",
   "execution_count": 47,
   "outputs": [],
   "source": [
    "MAP = total_prec / len(docs)"
   ],
   "metadata": {
    "collapsed": false
   }
  },
  {
   "cell_type": "markdown",
   "source": [
    "### 2. Recall"
   ],
   "metadata": {
    "collapsed": false
   }
  },
  {
   "cell_type": "code",
   "execution_count": 48,
   "outputs": [
    {
     "name": "stderr",
     "output_type": "stream",
     "text": [
      "100%|██████████| 2675/2675 [00:07<00:00, 349.18it/s]\n"
     ]
    }
   ],
   "source": [
    "found = 0\n",
    "total_prec = 0\n",
    "for i in tqdm(range(len(cos_matrix))):\n",
    "    sample = cos_matrix[i]\n",
    "    results = list(sorted(enumerate(sample), key=lambda item: item[1], reverse=True))\n",
    "\n",
    "    embd_set = set()\n",
    "    total_list = []\n",
    "    for r in results:\n",
    "        if r[1] not in embd_set:\n",
    "            embd_set.add(r[1])\n",
    "            total_list.append(r)\n",
    "\n",
    "    results = total_list[:10]\n",
    "\n",
    "    count = 0\n",
    "    for m in results:\n",
    "        if docs[m[0]] in pair[i][1]:\n",
    "            count += 1\n",
    "\n",
    "    total_prec += (count / len(pair[i][1]))"
   ],
   "metadata": {
    "collapsed": false
   }
  },
  {
   "cell_type": "code",
   "execution_count": 49,
   "outputs": [],
   "source": [
    "RECALL = total_prec / len(docs)"
   ],
   "metadata": {
    "collapsed": false
   }
  },
  {
   "cell_type": "markdown",
   "source": [
    "### 3. MRR"
   ],
   "metadata": {
    "collapsed": false
   }
  },
  {
   "cell_type": "code",
   "execution_count": 50,
   "outputs": [
    {
     "name": "stderr",
     "output_type": "stream",
     "text": [
      "100%|██████████| 2675/2675 [00:07<00:00, 349.98it/s]\n"
     ]
    }
   ],
   "source": [
    "found = 0\n",
    "total_prec = 0\n",
    "for i in tqdm(range(len(cos_matrix))):\n",
    "    sample = cos_matrix[i]\n",
    "    results = list(sorted(enumerate(sample), key=lambda item: item[1], reverse=True))\n",
    "\n",
    "    embd_set = set()\n",
    "    total_list = []\n",
    "    for r in results:\n",
    "        if r[1] not in embd_set:\n",
    "            embd_set.add(r[1])\n",
    "            total_list.append(r)\n",
    "\n",
    "    results = total_list[:10]\n",
    "\n",
    "    index = 1\n",
    "    for m in results:\n",
    "        if docs[m[0]] in pair[i][1]:\n",
    "            break\n",
    "        index += 1\n",
    "\n",
    "    total_prec += (1/index)"
   ],
   "metadata": {
    "collapsed": false
   }
  },
  {
   "cell_type": "code",
   "execution_count": 51,
   "outputs": [],
   "source": [
    "MRR = total_prec / len(docs)"
   ],
   "metadata": {
    "collapsed": false
   }
  },
  {
   "cell_type": "code",
   "execution_count": 52,
   "outputs": [
    {
     "name": "stdout",
     "output_type": "stream",
     "text": [
      "MAP@10: 0.10962691907364026\n",
      "Recall@10: 0.2078469945355191\n",
      "MRR@10: 0.16964635819553103\n"
     ]
    }
   ],
   "source": [
    "print(\"MAP@10: \" + str(MAP))\n",
    "print(\"Recall@10: \" + str(RECALL))\n",
    "print(\"MRR@10: \" + str(MRR))"
   ],
   "metadata": {
    "collapsed": false
   }
  },
  {
   "cell_type": "code",
   "execution_count": null,
   "outputs": [],
   "source": [],
   "metadata": {
    "collapsed": false
   }
  }
 ],
 "metadata": {
  "kernelspec": {
   "name": "legaltuned",
   "language": "python",
   "display_name": "legaltuned"
  },
  "language_info": {
   "codemirror_mode": {
    "name": "ipython",
    "version": 2
   },
   "file_extension": ".py",
   "mimetype": "text/x-python",
   "name": "python",
   "nbconvert_exporter": "python",
   "pygments_lexer": "ipython2",
   "version": "2.7.6"
  }
 },
 "nbformat": 4,
 "nbformat_minor": 0
}
