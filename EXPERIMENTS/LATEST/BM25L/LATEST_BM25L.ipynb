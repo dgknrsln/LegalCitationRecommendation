{
 "cells": [
  {
   "cell_type": "markdown",
   "source": [
    "# Citation Recommendation on Scholarly Legal Articles"
   ],
   "metadata": {
    "collapsed": false
   }
  },
  {
   "cell_type": "markdown",
   "source": [
    "## BM-25"
   ],
   "metadata": {
    "collapsed": false
   }
  },
  {
   "cell_type": "markdown",
   "source": [
    "### Libraries"
   ],
   "metadata": {
    "collapsed": false
   }
  },
  {
   "cell_type": "code",
   "execution_count": 3,
   "metadata": {
    "collapsed": true,
    "ExecuteTime": {
     "start_time": "2023-05-31T11:34:33.935848Z",
     "end_time": "2023-05-31T11:34:33.938405Z"
    }
   },
   "outputs": [],
   "source": [
    "import rank_bm25\n",
    "import pickle\n",
    "import os\n",
    "from tqdm import tqdm"
   ]
  },
  {
   "cell_type": "markdown",
   "source": [
    "### Dataset"
   ],
   "metadata": {
    "collapsed": false
   }
  },
  {
   "cell_type": "code",
   "execution_count": 4,
   "outputs": [],
   "source": [
    "with open('/Users/dgknrsln/Documents/pythonProject/EXPERIMENTS/LATEST_test_docs.pkl', 'rb') as f:\n",
    "    docs = pickle.load(f)\n",
    "\n",
    "with open('/Users/dgknrsln/Documents/pythonProject/EXPERIMENTS/LATEST_test_queries.pkl', 'rb') as f:\n",
    "    queries = pickle.load(f)\n",
    "\n",
    "with open('/Users/dgknrsln/Documents/pythonProject/EXPERIMENTS/LATEST_test_data.pkl', 'rb') as f:\n",
    "    pair = pickle.load(f)"
   ],
   "metadata": {
    "collapsed": false,
    "ExecuteTime": {
     "start_time": "2023-05-31T11:34:34.562881Z",
     "end_time": "2023-05-31T11:34:34.591422Z"
    }
   }
  },
  {
   "cell_type": "markdown",
   "source": [
    "### Train Model"
   ],
   "metadata": {
    "collapsed": false
   }
  },
  {
   "cell_type": "code",
   "execution_count": 6,
   "outputs": [],
   "source": [
    "tokenized_corpus = [doc.split() for doc in list(set(docs))]\n",
    "\n",
    "bm25 = rank_bm25.BM25L(tokenized_corpus)"
   ],
   "metadata": {
    "collapsed": false,
    "ExecuteTime": {
     "start_time": "2023-05-31T11:35:26.509920Z",
     "end_time": "2023-05-31T11:35:26.588780Z"
    }
   }
  },
  {
   "cell_type": "markdown",
   "source": [
    "### Evaluate"
   ],
   "metadata": {
    "collapsed": false
   }
  },
  {
   "cell_type": "markdown",
   "source": [
    "#### 1. MAP"
   ],
   "metadata": {
    "collapsed": false
   }
  },
  {
   "cell_type": "code",
   "execution_count": 7,
   "outputs": [
    {
     "name": "stderr",
     "output_type": "stream",
     "text": [
      "100%|██████████| 2675/2675 [02:29<00:00, 17.94it/s]\n"
     ]
    }
   ],
   "source": [
    "total_prec = 0\n",
    "found = 0\n",
    "for i in tqdm(range(len(queries))):\n",
    "\n",
    "    sample = queries[i]\n",
    "    tokenized_query = sample.split()\n",
    "    results = bm25.get_top_n(tokenized_query, tokenized_corpus, n=10)\n",
    "\n",
    "    count = 0\n",
    "    precision = 0\n",
    "    index = 0\n",
    "    for m in results:\n",
    "        if ' '.join(str(e) for e in m) in pair[i][1]:\n",
    "            count += 1\n",
    "            precision += count/(index+1)\n",
    "        index += 1\n",
    "\n",
    "    if count == 0:\n",
    "        precision = 0\n",
    "    else:\n",
    "        found += 1\n",
    "        precision /= count\n",
    "\n",
    "    total_prec += precision"
   ],
   "metadata": {
    "collapsed": false,
    "ExecuteTime": {
     "start_time": "2023-05-31T11:35:28.675289Z",
     "end_time": "2023-05-31T11:37:57.849437Z"
    }
   }
  },
  {
   "cell_type": "code",
   "execution_count": 8,
   "outputs": [
    {
     "name": "stdout",
     "output_type": "stream",
     "text": [
      "0.1521666518320723\n"
     ]
    }
   ],
   "source": [
    "MAP = total_prec / len(queries)\n",
    "print(MAP)"
   ],
   "metadata": {
    "collapsed": false,
    "ExecuteTime": {
     "start_time": "2023-05-31T11:37:57.851600Z",
     "end_time": "2023-05-31T11:37:57.853758Z"
    }
   }
  },
  {
   "cell_type": "markdown",
   "source": [
    "#### 2. Recall"
   ],
   "metadata": {
    "collapsed": false
   }
  },
  {
   "cell_type": "code",
   "execution_count": 9,
   "outputs": [
    {
     "name": "stderr",
     "output_type": "stream",
     "text": [
      "100%|██████████| 2675/2675 [02:29<00:00, 17.88it/s]\n"
     ]
    }
   ],
   "source": [
    "total_prec = 0\n",
    "found = 0\n",
    "for i in tqdm(range(len(queries))):\n",
    "\n",
    "    sample = queries[i]\n",
    "    tokenized_query = sample.split()\n",
    "    results = bm25.get_top_n(tokenized_query, tokenized_corpus, n=10)\n",
    "\n",
    "    count = 0\n",
    "    for m in results:\n",
    "        if ' '.join(str(e) for e in m) in pair[i][1]:\n",
    "            count += 1\n",
    "\n",
    "    total_prec += (count / len(pair[i][1]))"
   ],
   "metadata": {
    "collapsed": false,
    "ExecuteTime": {
     "start_time": "2023-05-31T11:37:57.855858Z",
     "end_time": "2023-05-31T11:40:27.459218Z"
    }
   }
  },
  {
   "cell_type": "code",
   "execution_count": 10,
   "outputs": [
    {
     "name": "stdout",
     "output_type": "stream",
     "text": [
      "0.33382242990654215\n"
     ]
    }
   ],
   "source": [
    "RECALL = total_prec / len(queries)\n",
    "print(RECALL)"
   ],
   "metadata": {
    "collapsed": false,
    "ExecuteTime": {
     "start_time": "2023-05-31T11:40:27.461243Z",
     "end_time": "2023-05-31T11:40:27.463151Z"
    }
   }
  },
  {
   "cell_type": "markdown",
   "source": [
    "#### 3. MRR"
   ],
   "metadata": {
    "collapsed": false
   }
  },
  {
   "cell_type": "code",
   "execution_count": 11,
   "outputs": [
    {
     "name": "stderr",
     "output_type": "stream",
     "text": [
      "100%|██████████| 2675/2675 [02:44<00:00, 16.24it/s]\n"
     ]
    }
   ],
   "source": [
    "total_prec = 0\n",
    "found = 0\n",
    "for i in tqdm(range(len(queries))):\n",
    "\n",
    "    sample = queries[i]\n",
    "    tokenized_query = sample.split()\n",
    "    results = bm25.get_top_n(tokenized_query, tokenized_corpus, n=10)\n",
    "\n",
    "    index = 1\n",
    "    for m in results:\n",
    "        if ' '.join(str(e) for e in m) in pair[i][1]:\n",
    "            break\n",
    "        index += 1\n",
    "\n",
    "    total_prec += (1/index)"
   ],
   "metadata": {
    "collapsed": false,
    "ExecuteTime": {
     "start_time": "2023-05-31T11:40:27.464963Z",
     "end_time": "2023-05-31T11:43:12.136004Z"
    }
   }
  },
  {
   "cell_type": "code",
   "execution_count": 12,
   "outputs": [
    {
     "name": "stdout",
     "output_type": "stream",
     "text": [
      "0.21189011611441028\n"
     ]
    }
   ],
   "source": [
    "MRR = total_prec / len(queries)\n",
    "print(MRR)"
   ],
   "metadata": {
    "collapsed": false,
    "ExecuteTime": {
     "start_time": "2023-05-31T11:43:12.136779Z",
     "end_time": "2023-05-31T11:43:12.139872Z"
    }
   }
  },
  {
   "cell_type": "markdown",
   "source": [
    "# Results"
   ],
   "metadata": {
    "collapsed": false
   }
  },
  {
   "cell_type": "code",
   "execution_count": 13,
   "outputs": [
    {
     "name": "stdout",
     "output_type": "stream",
     "text": [
      "MAP@10: 0.1521666518320723\n",
      "Recall@10: 0.33382242990654215\n",
      "MRR@10: 0.21189011611441028\n"
     ]
    }
   ],
   "source": [
    "print(\"MAP@10: \" + str(MAP))\n",
    "print(\"Recall@10: \" + str(RECALL))\n",
    "print(\"MRR@10: \" + str(MRR))"
   ],
   "metadata": {
    "collapsed": false,
    "ExecuteTime": {
     "start_time": "2023-05-31T11:43:12.141568Z",
     "end_time": "2023-05-31T11:43:12.143152Z"
    }
   }
  },
  {
   "cell_type": "code",
   "execution_count": null,
   "outputs": [],
   "source": [],
   "metadata": {
    "collapsed": false
   }
  }
 ],
 "metadata": {
  "kernelspec": {
   "name": "legaltuned",
   "language": "python",
   "display_name": "legaltuned"
  },
  "language_info": {
   "codemirror_mode": {
    "name": "ipython",
    "version": 2
   },
   "file_extension": ".py",
   "mimetype": "text/x-python",
   "name": "python",
   "nbconvert_exporter": "python",
   "pygments_lexer": "ipython2",
   "version": "2.7.6"
  }
 },
 "nbformat": 4,
 "nbformat_minor": 0
}
