{
 "cells": [
  {
   "cell_type": "markdown",
   "source": [
    "# Citation Recommendation on Scholarly Legal Articles"
   ],
   "metadata": {
    "collapsed": false
   }
  },
  {
   "cell_type": "markdown",
   "source": [
    "## BM-25 + Law2Vec"
   ],
   "metadata": {
    "collapsed": false
   }
  },
  {
   "cell_type": "markdown",
   "source": [
    "### Libraries"
   ],
   "metadata": {
    "collapsed": false
   }
  },
  {
   "cell_type": "code",
   "execution_count": 4,
   "metadata": {
    "collapsed": true,
    "ExecuteTime": {
     "start_time": "2023-06-13T15:06:47.946974Z",
     "end_time": "2023-06-13T15:06:47.956631Z"
    }
   },
   "outputs": [],
   "source": [
    "from rank_bm25 import BM25L\n",
    "import pickle\n",
    "import os\n",
    "from tqdm import tqdm\n",
    "from sklearn.metrics import pairwise"
   ]
  },
  {
   "cell_type": "markdown",
   "source": [
    "### Dataset"
   ],
   "metadata": {
    "collapsed": false
   }
  },
  {
   "cell_type": "code",
   "execution_count": 5,
   "outputs": [],
   "source": [
    "with open('/Users/dgknrsln/Documents/pythonProject/EXPERIMENTS/LATEST_test_docs.pkl', 'rb') as f:\n",
    "    docs = pickle.load(f)\n",
    "\n",
    "with open('/Users/dgknrsln/Documents/pythonProject/EXPERIMENTS/LATEST_test_queries.pkl', 'rb') as f:\n",
    "    queries = pickle.load(f)\n",
    "\n",
    "with open('/Users/dgknrsln/Documents/pythonProject/EXPERIMENTS/LATEST_test_data.pkl', 'rb') as f:\n",
    "    pair = pickle.load(f)"
   ],
   "metadata": {
    "collapsed": false,
    "ExecuteTime": {
     "start_time": "2023-06-13T15:06:48.604822Z",
     "end_time": "2023-06-13T15:06:48.627171Z"
    }
   }
  },
  {
   "cell_type": "code",
   "execution_count": 6,
   "outputs": [],
   "source": [
    "with open('/Users/dgknrsln/Documents/pythonProject/EXPERIMENTS/LATEST/LATEST_law2vec_parent_embeddings.pkl', 'rb') as f:\n",
    "    parent_embeddings_list = pickle.load(f)\n",
    "\n",
    "with open('/Users/dgknrsln/Documents/pythonProject/EXPERIMENTS/LATEST/LATEST_law2vec_child_embeddings.pkl', 'rb') as f:\n",
    "    child_embeddings_list = pickle.load(f)"
   ],
   "metadata": {
    "collapsed": false,
    "ExecuteTime": {
     "start_time": "2023-06-13T15:06:48.793460Z",
     "end_time": "2023-06-13T15:06:48.808208Z"
    }
   }
  },
  {
   "cell_type": "markdown",
   "source": [
    "### Train Model"
   ],
   "metadata": {
    "collapsed": false
   }
  },
  {
   "cell_type": "code",
   "execution_count": 8,
   "outputs": [],
   "source": [
    "tokenized_corpus = [doc.split() for doc in list(set(docs))]\n",
    "\n",
    "bm25 = BM25L(tokenized_corpus)"
   ],
   "metadata": {
    "collapsed": false,
    "ExecuteTime": {
     "start_time": "2023-06-13T15:06:53.648756Z",
     "end_time": "2023-06-13T15:06:53.726455Z"
    }
   }
  },
  {
   "cell_type": "markdown",
   "source": [
    "### Evaluate"
   ],
   "metadata": {
    "collapsed": false
   }
  },
  {
   "cell_type": "markdown",
   "source": [
    "#### 1. MAP"
   ],
   "metadata": {
    "collapsed": false
   }
  },
  {
   "cell_type": "code",
   "execution_count": 9,
   "outputs": [
    {
     "name": "stderr",
     "output_type": "stream",
     "text": [
      "100%|██████████| 2675/2675 [02:53<00:00, 15.43it/s]\n"
     ]
    }
   ],
   "source": [
    "total_prec = 0\n",
    "found = 0\n",
    "for i in tqdm(range(len(queries))):\n",
    "\n",
    "    sample = queries[i]\n",
    "    tokenized_query = sample.split()\n",
    "    results = bm25.get_top_n(tokenized_query, tokenized_corpus, n=10)\n",
    "\n",
    "    result_emb = []\n",
    "\n",
    "    for x in results:\n",
    "        result_emb.append(parent_embeddings_list[docs.index(' '.join(str(e) for e in x))][2])\n",
    "\n",
    "    cos_matrix = pairwise.cosine_similarity(child_embeddings_list[i].reshape(1, -1), result_emb)\n",
    "    retrieved = list(sorted(enumerate(cos_matrix[0]), key=lambda item: item[1], reverse=True))\n",
    "\n",
    "    count = 0\n",
    "    precision = 0\n",
    "    index = 0\n",
    "    for m in retrieved:\n",
    "        if ' '.join(str(e) for e in results[m[0]]) in pair[i][1]:\n",
    "            count += 1\n",
    "            precision += count/(index+1)\n",
    "        index += 1\n",
    "\n",
    "    if count == 0:\n",
    "        precision = 0\n",
    "    else:\n",
    "        found += 1\n",
    "        precision /= count\n",
    "\n",
    "    total_prec += precision"
   ],
   "metadata": {
    "collapsed": false,
    "ExecuteTime": {
     "start_time": "2023-06-13T15:06:54.512062Z",
     "end_time": "2023-06-13T15:09:47.924309Z"
    }
   }
  },
  {
   "cell_type": "code",
   "execution_count": 10,
   "outputs": [],
   "source": [
    "MAP = total_prec / len(queries)"
   ],
   "metadata": {
    "collapsed": false,
    "ExecuteTime": {
     "start_time": "2023-06-13T15:09:47.927704Z",
     "end_time": "2023-06-13T15:09:47.931463Z"
    }
   }
  },
  {
   "cell_type": "code",
   "execution_count": 11,
   "outputs": [
    {
     "name": "stdout",
     "output_type": "stream",
     "text": [
      "0.16897596795727604\n"
     ]
    }
   ],
   "source": [
    "print(MAP)"
   ],
   "metadata": {
    "collapsed": false,
    "ExecuteTime": {
     "start_time": "2023-06-13T15:09:47.931966Z",
     "end_time": "2023-06-13T15:09:47.954911Z"
    }
   }
  },
  {
   "cell_type": "markdown",
   "source": [
    "#### 2. Recall"
   ],
   "metadata": {
    "collapsed": false
   }
  },
  {
   "cell_type": "code",
   "execution_count": 12,
   "outputs": [
    {
     "name": "stderr",
     "output_type": "stream",
     "text": [
      "100%|██████████| 2675/2675 [03:05<00:00, 14.44it/s]\n"
     ]
    }
   ],
   "source": [
    "total_prec = 0\n",
    "found = 0\n",
    "for i in tqdm(range(len(queries))):\n",
    "\n",
    "    sample = queries[i]\n",
    "    tokenized_query = sample.split()\n",
    "    results = bm25.get_top_n(tokenized_query, tokenized_corpus, n=10)\n",
    "\n",
    "    result_emb = []\n",
    "\n",
    "    for x in results:\n",
    "        result_emb.append(parent_embeddings_list[docs.index(' '.join(str(e) for e in x))][2])\n",
    "\n",
    "    cos_matrix = pairwise.cosine_similarity(child_embeddings_list[i].reshape(1, -1), result_emb)\n",
    "    retrieved = list(sorted(enumerate(cos_matrix[0]), key=lambda item: item[1], reverse=True))\n",
    "\n",
    "    count = 0\n",
    "    for m in retrieved:\n",
    "        if ' '.join(str(e) for e in results[m[0]]) in pair[i][1]:\n",
    "            count += 1\n",
    "\n",
    "    total_prec += (count / len(pair[i][1]))"
   ],
   "metadata": {
    "collapsed": false,
    "ExecuteTime": {
     "start_time": "2023-06-13T15:09:47.940759Z",
     "end_time": "2023-06-13T15:12:53.139368Z"
    }
   }
  },
  {
   "cell_type": "code",
   "execution_count": 13,
   "outputs": [],
   "source": [
    "RECALL = total_prec / len(queries)"
   ],
   "metadata": {
    "collapsed": false,
    "ExecuteTime": {
     "start_time": "2023-06-13T15:12:53.138882Z",
     "end_time": "2023-06-13T15:12:53.141628Z"
    }
   }
  },
  {
   "cell_type": "code",
   "execution_count": 14,
   "outputs": [
    {
     "name": "stdout",
     "output_type": "stream",
     "text": [
      "0.33382242990654215\n"
     ]
    }
   ],
   "source": [
    "print(RECALL)"
   ],
   "metadata": {
    "collapsed": false,
    "ExecuteTime": {
     "start_time": "2023-06-13T15:12:53.142450Z",
     "end_time": "2023-06-13T15:12:53.144996Z"
    }
   }
  },
  {
   "cell_type": "markdown",
   "source": [
    "#### 3. MRR"
   ],
   "metadata": {
    "collapsed": false
   }
  },
  {
   "cell_type": "code",
   "execution_count": 15,
   "outputs": [
    {
     "name": "stderr",
     "output_type": "stream",
     "text": [
      "100%|██████████| 2675/2675 [02:55<00:00, 15.27it/s]\n"
     ]
    }
   ],
   "source": [
    "total_prec = 0\n",
    "found = 0\n",
    "for i in tqdm(range(len(queries))):\n",
    "\n",
    "    sample = queries[i]\n",
    "    tokenized_query = sample.split()\n",
    "    results = bm25.get_top_n(tokenized_query, tokenized_corpus, n=10)\n",
    "\n",
    "    result_emb = []\n",
    "\n",
    "    for x in results:\n",
    "        result_emb.append(parent_embeddings_list[docs.index(' '.join(str(e) for e in x))][2])\n",
    "\n",
    "    cos_matrix = pairwise.cosine_similarity(child_embeddings_list[i].reshape(1, -1), result_emb)\n",
    "    retrieved = list(sorted(enumerate(cos_matrix[0]), key=lambda item: item[1], reverse=True))\n",
    "\n",
    "    index = 1\n",
    "    for m in retrieved:\n",
    "        if ' '.join(str(e) for e in results[m[0]]) in pair[i][1]:\n",
    "            break\n",
    "        index += 1\n",
    "\n",
    "    total_prec += (1/index)"
   ],
   "metadata": {
    "collapsed": false,
    "ExecuteTime": {
     "start_time": "2023-06-13T15:12:53.148232Z",
     "end_time": "2023-06-13T15:15:48.347135Z"
    }
   }
  },
  {
   "cell_type": "code",
   "execution_count": 16,
   "outputs": [],
   "source": [
    "MRR = total_prec / len(queries)"
   ],
   "metadata": {
    "collapsed": false,
    "ExecuteTime": {
     "start_time": "2023-06-13T15:15:48.348018Z",
     "end_time": "2023-06-13T15:15:48.349421Z"
    }
   }
  },
  {
   "cell_type": "markdown",
   "source": [
    "# Results"
   ],
   "metadata": {
    "collapsed": false
   }
  },
  {
   "cell_type": "code",
   "execution_count": 17,
   "outputs": [
    {
     "name": "stdout",
     "output_type": "stream",
     "text": [
      "MAP@10: 0.16897596795727604\n",
      "Recall@10: 0.33382242990654215\n",
      "MRR@10: 0.2285054550848912\n"
     ]
    }
   ],
   "source": [
    "print(\"MAP@10: \" + str(MAP))\n",
    "print(\"Recall@10: \" + str(RECALL))\n",
    "print(\"MRR@10: \" + str(MRR))"
   ],
   "metadata": {
    "collapsed": false,
    "ExecuteTime": {
     "start_time": "2023-06-13T15:15:48.350841Z",
     "end_time": "2023-06-13T15:15:48.352771Z"
    }
   }
  },
  {
   "cell_type": "code",
   "execution_count": null,
   "outputs": [],
   "source": [],
   "metadata": {
    "collapsed": false
   }
  }
 ],
 "metadata": {
  "kernelspec": {
   "name": "legaltuned",
   "language": "python",
   "display_name": "legaltuned"
  },
  "language_info": {
   "codemirror_mode": {
    "name": "ipython",
    "version": 2
   },
   "file_extension": ".py",
   "mimetype": "text/x-python",
   "name": "python",
   "nbconvert_exporter": "python",
   "pygments_lexer": "ipython2",
   "version": "2.7.6"
  }
 },
 "nbformat": 4,
 "nbformat_minor": 0
}
