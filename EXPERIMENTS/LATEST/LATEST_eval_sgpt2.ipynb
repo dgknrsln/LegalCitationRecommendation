{
 "cells": [
  {
   "cell_type": "code",
   "execution_count": 1,
   "metadata": {
    "collapsed": true
   },
   "outputs": [],
   "source": [
    "import pickle\n",
    "from sklearn.metrics import pairwise\n",
    "import numpy as np\n",
    "from tqdm import tqdm"
   ]
  },
  {
   "cell_type": "markdown",
   "source": [
    "## DATA"
   ],
   "metadata": {
    "collapsed": false
   }
  },
  {
   "cell_type": "code",
   "execution_count": 2,
   "outputs": [],
   "source": [
    "with open('/Users/dgknrsln/Documents/pythonProject/EXPERIMENTS/LATEST_test_docs.pkl', 'rb') as f:\n",
    "    docs = pickle.load(f)\n",
    "\n",
    "with open('/Users/dgknrsln/Documents/pythonProject/EXPERIMENTS/LATEST_test_queries.pkl', 'rb') as f:\n",
    "    queries = pickle.load(f)\n",
    "\n",
    "with open('/Users/dgknrsln/Documents/pythonProject/EXPERIMENTS/LATEST_test_data.pkl', 'rb') as f:\n",
    "    pair = pickle.load(f)"
   ],
   "metadata": {
    "collapsed": false
   }
  },
  {
   "cell_type": "markdown",
   "source": [
    "## SGPT"
   ],
   "metadata": {
    "collapsed": false
   }
  },
  {
   "cell_type": "code",
   "execution_count": 3,
   "outputs": [],
   "source": [
    "with open('/Users/dgknrsln/Documents/pythonProject/EXPERIMENTS/LATEST/LATEST_sgpt_inference_docs.pkl', 'rb') as f:\n",
    "    parent_embeddings_list = pickle.load(f)\n",
    "\n",
    "with open('/Users/dgknrsln/Documents/pythonProject/EXPERIMENTS/LATEST/LATEST_sgpt_inference_queries.pkl', 'rb') as f:\n",
    "    child_embeddings_list = pickle.load(f)"
   ],
   "metadata": {
    "collapsed": false
   }
  },
  {
   "cell_type": "code",
   "execution_count": 4,
   "outputs": [],
   "source": [
    "cos_matrix = pairwise.cosine_similarity(child_embeddings_list, parent_embeddings_list)"
   ],
   "metadata": {
    "collapsed": false
   }
  },
  {
   "cell_type": "markdown",
   "source": [
    "### 1.MAP"
   ],
   "metadata": {
    "collapsed": false
   }
  },
  {
   "cell_type": "code",
   "execution_count": 5,
   "outputs": [
    {
     "name": "stderr",
     "output_type": "stream",
     "text": [
      "100%|██████████| 2675/2675 [00:07<00:00, 363.20it/s]\n"
     ]
    }
   ],
   "source": [
    "found = 0\n",
    "total_prec = 0\n",
    "for i in tqdm(range(len(cos_matrix))):\n",
    "    sample = cos_matrix[i]\n",
    "    results = list(sorted(enumerate(sample), key=lambda item: item[1], reverse=True))\n",
    "\n",
    "    embd_set = set()\n",
    "    total_list = []\n",
    "    for r in results:\n",
    "        if r[1] not in embd_set:\n",
    "            embd_set.add(r[1])\n",
    "            total_list.append(r)\n",
    "\n",
    "    results = total_list[:10]\n",
    "\n",
    "    count = 0\n",
    "    precision = 0\n",
    "    index = 0\n",
    "    for m in results:\n",
    "        if docs[m[0]] in pair[i][1]:\n",
    "            count += 1\n",
    "            precision += count/(index+1)\n",
    "        index += 1\n",
    "\n",
    "    if count == 0:\n",
    "        precision = 0\n",
    "    else:\n",
    "        found += 1\n",
    "        precision /= count\n",
    "\n",
    "    total_prec += precision"
   ],
   "metadata": {
    "collapsed": false
   }
  },
  {
   "cell_type": "code",
   "execution_count": 6,
   "outputs": [
    {
     "name": "stdout",
     "output_type": "stream",
     "text": [
      "0.17082289227166264\n"
     ]
    }
   ],
   "source": [
    "MAP = total_prec / len(docs)\n",
    "print(MAP)"
   ],
   "metadata": {
    "collapsed": false
   }
  },
  {
   "cell_type": "markdown",
   "source": [
    "### 2.Recall"
   ],
   "metadata": {
    "collapsed": false
   }
  },
  {
   "cell_type": "code",
   "execution_count": 7,
   "outputs": [
    {
     "name": "stderr",
     "output_type": "stream",
     "text": [
      "100%|██████████| 2675/2675 [00:07<00:00, 357.88it/s]\n"
     ]
    }
   ],
   "source": [
    "found = 0\n",
    "total_prec = 0\n",
    "for i in tqdm(range(len(cos_matrix))):\n",
    "    sample = cos_matrix[i]\n",
    "    results = list(sorted(enumerate(sample), key=lambda item: item[1], reverse=True))\n",
    "\n",
    "    embd_set = set()\n",
    "    total_list = []\n",
    "    for r in results:\n",
    "        if r[1] not in embd_set:\n",
    "            embd_set.add(r[1])\n",
    "            total_list.append(r)\n",
    "\n",
    "    results = total_list[:10]\n",
    "\n",
    "    count = 0\n",
    "    for m in results:\n",
    "        if docs[m[0]] in pair[i][1]:\n",
    "            count += 1\n",
    "\n",
    "    total_prec += (count / len(pair[i][1]))"
   ],
   "metadata": {
    "collapsed": false
   }
  },
  {
   "cell_type": "code",
   "execution_count": 8,
   "outputs": [
    {
     "name": "stdout",
     "output_type": "stream",
     "text": [
      "0.30460655737704917\n"
     ]
    }
   ],
   "source": [
    "RECALL = total_prec / len(docs)\n",
    "print(RECALL)"
   ],
   "metadata": {
    "collapsed": false
   }
  },
  {
   "cell_type": "markdown",
   "source": [
    "### 3.MRR"
   ],
   "metadata": {
    "collapsed": false
   }
  },
  {
   "cell_type": "code",
   "execution_count": 9,
   "outputs": [
    {
     "name": "stderr",
     "output_type": "stream",
     "text": [
      "100%|██████████| 2675/2675 [00:07<00:00, 369.94it/s]\n"
     ]
    }
   ],
   "source": [
    "found = 0\n",
    "total_prec = 0\n",
    "for i in tqdm(range(len(cos_matrix))):\n",
    "    sample = cos_matrix[i]\n",
    "    results = list(sorted(enumerate(sample), key=lambda item: item[1], reverse=True))\n",
    "\n",
    "    embd_set = set()\n",
    "    total_list = []\n",
    "    for r in results:\n",
    "        if r[1] not in embd_set:\n",
    "            embd_set.add(r[1])\n",
    "            total_list.append(r)\n",
    "\n",
    "    results = total_list[:10]\n",
    "\n",
    "    index = 1\n",
    "    for m in results:\n",
    "        if docs[m[0]] in pair[i][1]:\n",
    "            break\n",
    "        index += 1\n",
    "\n",
    "    total_prec += (1/index)"
   ],
   "metadata": {
    "collapsed": false
   }
  },
  {
   "cell_type": "code",
   "execution_count": 10,
   "outputs": [
    {
     "name": "stdout",
     "output_type": "stream",
     "text": [
      "0.22263626901331723\n"
     ]
    }
   ],
   "source": [
    "MRR = total_prec / len(docs)\n",
    "print(MRR)"
   ],
   "metadata": {
    "collapsed": false
   }
  },
  {
   "cell_type": "code",
   "execution_count": null,
   "outputs": [],
   "source": [],
   "metadata": {
    "collapsed": false,
    "pycharm": {
     "is_executing": true
    }
   }
  },
  {
   "cell_type": "code",
   "execution_count": 10,
   "outputs": [],
   "source": [],
   "metadata": {
    "collapsed": false
   }
  }
 ],
 "metadata": {
  "kernelspec": {
   "name": "legaltuned",
   "language": "python",
   "display_name": "legaltuned"
  },
  "language_info": {
   "codemirror_mode": {
    "name": "ipython",
    "version": 2
   },
   "file_extension": ".py",
   "mimetype": "text/x-python",
   "name": "python",
   "nbconvert_exporter": "python",
   "pygments_lexer": "ipython2",
   "version": "2.7.6"
  }
 },
 "nbformat": 4,
 "nbformat_minor": 0
}
